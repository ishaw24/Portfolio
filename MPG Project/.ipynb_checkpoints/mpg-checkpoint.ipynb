{
 "cells": [
  {
   "cell_type": "markdown",
   "id": "c600e758",
   "metadata": {},
   "source": [
    "# Abstract\n",
    "From time to time, I've asked friends how many cylinders their engine had out of curiosity, despite not being very interested in cars myself. Often, they say they don't know. Of course, many modern cars track the user's miles per gallon somewhere. The goal of this analysis is to see if I can accurately predict the number of cylinders in a car's engine by the miles per gallon it gets."
   ]
  },
  {
   "cell_type": "markdown",
   "id": "aa2015be",
   "metadata": {},
   "source": [
    "# Data\n",
    "The data was downloaded from https://fueleconomy.gov/feg/download.shtml. It contains general automotive data for every model of car by year from 1984 to 2024. The data is collected and posted by the U.S. Department of Energy's Office of Energy Efficiency & Renewable Energy."
   ]
  },
  {
   "cell_type": "code",
   "execution_count": null,
   "id": "0817f013",
   "metadata": {},
   "outputs": [],
   "source": [
    "import pandas as pd\n",
    "data = pd.read_csv('vehicles.csv')"
   ]
  },
  {
   "cell_type": "markdown",
   "id": "59e542fc",
   "metadata": {},
   "source": [
    "# Methods\n",
    "The first method we will employ is perhaps the most simple, an ANOVA test with all of the data"
   ]
  },
  {
   "cell_type": "markdown",
   "id": "ae6d2b11",
   "metadata": {},
   "source": [
    "## ANOVA Test"
   ]
  },
  {
   "cell_type": "code",
   "execution_count": null,
   "id": "27c54af3",
   "metadata": {},
   "outputs": [],
   "source": []
  }
 ],
 "metadata": {
  "kernelspec": {
   "display_name": "Python 3 (ipykernel)",
   "language": "python",
   "name": "python3"
  },
  "language_info": {
   "codemirror_mode": {
    "name": "ipython",
    "version": 3
   },
   "file_extension": ".py",
   "mimetype": "text/x-python",
   "name": "python",
   "nbconvert_exporter": "python",
   "pygments_lexer": "ipython3",
   "version": "3.10.10"
  }
 },
 "nbformat": 4,
 "nbformat_minor": 5
}
